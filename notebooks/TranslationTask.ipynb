{
 "cells": [
  {
   "cell_type": "code",
   "execution_count": 1,
   "id": "4166f4af-0af3-4d2a-bd08-1b0056a0bda4",
   "metadata": {},
   "outputs": [],
   "source": [
    "import pandas as pd\n",
    "import numpy as np\n",
    "from tqdm.notebook import tqdm\n",
    "\n",
    "import seaborn as sns\n",
    "\n",
    "import matplotlib.pyplot as plt\n",
    "from matplotlib.font_manager import FontProperties"
   ]
  },
  {
   "cell_type": "code",
   "execution_count": 2,
   "id": "f4d5873d-4788-489f-8628-5905ff29d03e",
   "metadata": {},
   "outputs": [
    {
     "data": {
      "text/html": [
       "<div>\n",
       "<style scoped>\n",
       "    .dataframe tbody tr th:only-of-type {\n",
       "        vertical-align: middle;\n",
       "    }\n",
       "\n",
       "    .dataframe tbody tr th {\n",
       "        vertical-align: top;\n",
       "    }\n",
       "\n",
       "    .dataframe thead th {\n",
       "        text-align: right;\n",
       "    }\n",
       "</style>\n",
       "<table border=\"1\" class=\"dataframe\">\n",
       "  <thead>\n",
       "    <tr style=\"text-align: right;\">\n",
       "      <th></th>\n",
       "      <th>English</th>\n",
       "      <th>Hindi</th>\n",
       "      <th>annotations</th>\n",
       "    </tr>\n",
       "  </thead>\n",
       "  <tbody>\n",
       "    <tr>\n",
       "      <th>0</th>\n",
       "      <td>Wow!</td>\n",
       "      <td>वाह!</td>\n",
       "      <td>CC-BY 2.0 (France) Attribution: tatoeba.org #5...</td>\n",
       "    </tr>\n",
       "    <tr>\n",
       "      <th>1</th>\n",
       "      <td>Duck!</td>\n",
       "      <td>झुको!</td>\n",
       "      <td>CC-BY 2.0 (France) Attribution: tatoeba.org #2...</td>\n",
       "    </tr>\n",
       "    <tr>\n",
       "      <th>2</th>\n",
       "      <td>Duck!</td>\n",
       "      <td>बतख़!</td>\n",
       "      <td>CC-BY 2.0 (France) Attribution: tatoeba.org #2...</td>\n",
       "    </tr>\n",
       "    <tr>\n",
       "      <th>3</th>\n",
       "      <td>Help!</td>\n",
       "      <td>बचाओ!</td>\n",
       "      <td>CC-BY 2.0 (France) Attribution: tatoeba.org #4...</td>\n",
       "    </tr>\n",
       "    <tr>\n",
       "      <th>4</th>\n",
       "      <td>Jump.</td>\n",
       "      <td>उछलो.</td>\n",
       "      <td>CC-BY 2.0 (France) Attribution: tatoeba.org #6...</td>\n",
       "    </tr>\n",
       "  </tbody>\n",
       "</table>\n",
       "</div>"
      ],
      "text/plain": [
       "  English  Hindi                                        annotations\n",
       "0    Wow!   वाह!  CC-BY 2.0 (France) Attribution: tatoeba.org #5...\n",
       "1   Duck!  झुको!  CC-BY 2.0 (France) Attribution: tatoeba.org #2...\n",
       "2   Duck!  बतख़!  CC-BY 2.0 (France) Attribution: tatoeba.org #2...\n",
       "3   Help!  बचाओ!  CC-BY 2.0 (France) Attribution: tatoeba.org #4...\n",
       "4   Jump.  उछलो.  CC-BY 2.0 (France) Attribution: tatoeba.org #6..."
      ]
     },
     "execution_count": 2,
     "metadata": {},
     "output_type": "execute_result"
    }
   ],
   "source": [
    "cols = ['English', 'Hindi', 'annotations']\n",
    "df = pd.read_csv('data/hin-eng/hin.txt', delimiter='\\t', header=None, names = cols)\n",
    "df.head()"
   ]
  },
  {
   "cell_type": "markdown",
   "id": "4c46788b-3a58-4716-a545-1cadb14a6829",
   "metadata": {},
   "source": [
    "# Preprocess\n",
    "We will do a simple preprocess of removing the punctuations and making the words in the lower case"
   ]
  },
  {
   "cell_type": "code",
   "execution_count": 3,
   "id": "dcc8c9b0-aae1-4458-93cf-ae59a6ef909e",
   "metadata": {},
   "outputs": [],
   "source": [
    "import string\n",
    "def preprocess(x):\n",
    "    removed_str = x.translate(str.maketrans('', '', string.punctuation))\n",
    "    return removed_str.lower()"
   ]
  },
  {
   "cell_type": "code",
   "execution_count": 4,
   "id": "938520cf-ba5a-4864-b2b0-0ee5f80c121c",
   "metadata": {},
   "outputs": [],
   "source": [
    "df['English'] = df['English'].apply(preprocess)\n",
    "df['Hindi'] = df['Hindi'].apply(preprocess)"
   ]
  },
  {
   "cell_type": "code",
   "execution_count": 5,
   "id": "9468de26-db88-4768-82f2-6c12a162dd6a",
   "metadata": {},
   "outputs": [
    {
     "data": {
      "text/html": [
       "<div>\n",
       "<style scoped>\n",
       "    .dataframe tbody tr th:only-of-type {\n",
       "        vertical-align: middle;\n",
       "    }\n",
       "\n",
       "    .dataframe tbody tr th {\n",
       "        vertical-align: top;\n",
       "    }\n",
       "\n",
       "    .dataframe thead th {\n",
       "        text-align: right;\n",
       "    }\n",
       "</style>\n",
       "<table border=\"1\" class=\"dataframe\">\n",
       "  <thead>\n",
       "    <tr style=\"text-align: right;\">\n",
       "      <th></th>\n",
       "      <th>English</th>\n",
       "      <th>Hindi</th>\n",
       "      <th>annotations</th>\n",
       "    </tr>\n",
       "  </thead>\n",
       "  <tbody>\n",
       "    <tr>\n",
       "      <th>0</th>\n",
       "      <td>wow</td>\n",
       "      <td>वाह</td>\n",
       "      <td>CC-BY 2.0 (France) Attribution: tatoeba.org #5...</td>\n",
       "    </tr>\n",
       "    <tr>\n",
       "      <th>1</th>\n",
       "      <td>duck</td>\n",
       "      <td>झुको</td>\n",
       "      <td>CC-BY 2.0 (France) Attribution: tatoeba.org #2...</td>\n",
       "    </tr>\n",
       "    <tr>\n",
       "      <th>2</th>\n",
       "      <td>duck</td>\n",
       "      <td>बतख़</td>\n",
       "      <td>CC-BY 2.0 (France) Attribution: tatoeba.org #2...</td>\n",
       "    </tr>\n",
       "    <tr>\n",
       "      <th>3</th>\n",
       "      <td>help</td>\n",
       "      <td>बचाओ</td>\n",
       "      <td>CC-BY 2.0 (France) Attribution: tatoeba.org #4...</td>\n",
       "    </tr>\n",
       "    <tr>\n",
       "      <th>4</th>\n",
       "      <td>jump</td>\n",
       "      <td>उछलो</td>\n",
       "      <td>CC-BY 2.0 (France) Attribution: tatoeba.org #6...</td>\n",
       "    </tr>\n",
       "  </tbody>\n",
       "</table>\n",
       "</div>"
      ],
      "text/plain": [
       "  English Hindi                                        annotations\n",
       "0     wow   वाह  CC-BY 2.0 (France) Attribution: tatoeba.org #5...\n",
       "1    duck  झुको  CC-BY 2.0 (France) Attribution: tatoeba.org #2...\n",
       "2    duck  बतख़  CC-BY 2.0 (France) Attribution: tatoeba.org #2...\n",
       "3    help  बचाओ  CC-BY 2.0 (France) Attribution: tatoeba.org #4...\n",
       "4    jump  उछलो  CC-BY 2.0 (France) Attribution: tatoeba.org #6..."
      ]
     },
     "execution_count": 5,
     "metadata": {},
     "output_type": "execute_result"
    }
   ],
   "source": [
    "df.head()"
   ]
  },
  {
   "cell_type": "markdown",
   "id": "57c4a576-e516-466e-8dea-a92b3fff35fc",
   "metadata": {},
   "source": [
    "# Vocab\n",
    "Next would be to create a dictionary mapping from word to idx for both English and Hindi"
   ]
  },
  {
   "cell_type": "code",
   "execution_count": 6,
   "id": "5f002e73-d240-433c-a6ba-afa98148dd51",
   "metadata": {},
   "outputs": [],
   "source": [
    "def create_vocab(series_):\n",
    "    sent = list(map(str.split, series_))\n",
    "    flatten_sent = [word for i in sent for word in i]\n",
    "    words = sorted(list(set(flatten_sent)))\n",
    "    vocab = {word: idx for idx, word in enumerate(words)}\n",
    "    return vocab"
   ]
  },
  {
   "cell_type": "code",
   "execution_count": 7,
   "id": "6a1388f6-26db-4585-ae6b-f1fdecba04bf",
   "metadata": {
    "scrolled": true
   },
   "outputs": [],
   "source": [
    "english_vocab = create_vocab(df['English'])\n",
    "english_vocab['PAD'] = len(english_vocab)\n",
    "english_vocab['START'] = len(english_vocab)\n",
    "english_vocab['END'] = len(english_vocab)"
   ]
  },
  {
   "cell_type": "code",
   "execution_count": 8,
   "id": "3baf17eb-2158-4dfa-81f0-148341ce7373",
   "metadata": {},
   "outputs": [],
   "source": [
    "hindi_vocab = create_vocab(df['Hindi'])\n",
    "hindi_vocab['PAD'] = len(hindi_vocab)\n",
    "hindi_vocab['START'] = len(hindi_vocab)\n",
    "hindi_vocab['END'] = len(hindi_vocab)"
   ]
  },
  {
   "cell_type": "code",
   "execution_count": 9,
   "id": "6cb6c508-64f8-46d3-bd78-1de08cceffe8",
   "metadata": {},
   "outputs": [
    {
     "name": "stdout",
     "output_type": "stream",
     "text": [
      "number of words in hindi :    3063\n",
      "number of words in english :  2406\n"
     ]
    }
   ],
   "source": [
    "print(\"number of words in hindi :   \", len(hindi_vocab))\n",
    "print(\"number of words in english : \", len(english_vocab))"
   ]
  },
  {
   "cell_type": "markdown",
   "id": "2f2629da-ead8-4cb9-b348-14ffe14a3d30",
   "metadata": {},
   "source": [
    "Let's save the vocab so that we can reuse them"
   ]
  },
  {
   "cell_type": "code",
   "execution_count": 10,
   "id": "153070cf-a505-4ed9-aec0-60a702c1f736",
   "metadata": {},
   "outputs": [],
   "source": [
    "import pickle\n",
    "\n",
    "def save_vocab(vocab, file, save_dir = 'data/hin-eng/'):\n",
    "    with open(f'{save_dir}{file}.pkl', 'wb') as file:\n",
    "        pickle.dump(vocab, file)\n",
    "        \n",
    "save_vocab(english_vocab, 'english_vocab')  \n",
    "save_vocab(hindi_vocab, 'hindi_vocab')  "
   ]
  },
  {
   "cell_type": "markdown",
   "id": "eda21a1f-9272-43a8-a7a4-b9cc8d4f6a6f",
   "metadata": {},
   "source": [
    "# Dataset"
   ]
  },
  {
   "cell_type": "code",
   "execution_count": 11,
   "id": "f7c7445c-b641-4fb1-8e0b-4f3aa41befdb",
   "metadata": {},
   "outputs": [],
   "source": [
    "def load_vocab(file, save_dir = 'data/hin-eng/'):\n",
    "    with open(f'{save_dir}{file}.pkl', 'rb') as file:\n",
    "        vocab = pickle.load(file)\n",
    "    return vocab\n",
    "\n",
    "english_vocab = load_vocab('english_vocab')\n",
    "hindi_vocab = load_vocab('hindi_vocab')"
   ]
  },
  {
   "cell_type": "code",
   "execution_count": 12,
   "id": "7b0aeb8d-3b9f-444f-92d2-8cd586e859ed",
   "metadata": {},
   "outputs": [],
   "source": [
    "import torch\n",
    "from torch.utils.data import Dataset, DataLoader"
   ]
  },
  {
   "cell_type": "code",
   "execution_count": 13,
   "id": "a533a059-68bf-4362-be0a-67aea3ab432a",
   "metadata": {},
   "outputs": [],
   "source": [
    "class EnglishHindi(Dataset):\n",
    "    def __init__(self, file_name, english_vocab, hindi_vocab, sentence_length = 10):\n",
    "        super().__init__()\n",
    "        self.english_vocab = english_vocab\n",
    "        self.hindi_vocab = hindi_vocab\n",
    "        self.sentence_length = sentence_length\n",
    "        \n",
    "        self.x, self.y = [], []\n",
    "        self.load(file_name)\n",
    "    \n",
    "    def load(self, file_name):\n",
    "        def preprocess(x):\n",
    "            removed_str = x.translate(str.maketrans('', '', string.punctuation))\n",
    "            removed_str = str.split(removed_str.lower())\n",
    "            removed_str = ['START']+removed_str+['END']\n",
    "            if len(removed_str) < self.sentence_length:\n",
    "                removed_str = removed_str + ['PAD' for _ in range(self.sentence_length - len(removed_str))]\n",
    "            removed_str = removed_str[:self.sentence_length]\n",
    "            return removed_str\n",
    "\n",
    "        def mask_pad(x):\n",
    "            mask_ = [(0 if i == 'PAD' else 1) for i in x]\n",
    "            return mask_\n",
    "        \n",
    "        cols = ['English', 'Hindi', 'annotations']\n",
    "        df = pd.read_csv(f'data/hin-eng/{file_name}', delimiter='\\t', header=None, names = cols)\n",
    "        \n",
    "        df['English'] = df['English'].apply(preprocess)\n",
    "        df['Hindi'] = df['Hindi'].apply(preprocess)\n",
    "\n",
    "        df['EnglishMask'] = df['English'].apply(mask_pad)\n",
    "        df['HindiMask'] = df['Hindi'].apply(mask_pad)\n",
    "\n",
    "        df['English'] = df['English'].apply(lambda x : [self.english_vocab[i] for i in x])\n",
    "        df['Hindi'] = df['Hindi'].apply(lambda x : [self.hindi_vocab[i] for i in x])\n",
    "\n",
    "        self.x, self.y = list(df['English']), list(df['Hindi'])\n",
    "        self.mask_x, self.mask_y = list(df['EnglishMask']), list(df['HindiMask'])\n",
    "\n",
    "\n",
    "    def __len__(self):\n",
    "        return len(self.x)\n",
    "\n",
    "    def __getitem__(self, idx):\n",
    "        x = torch.tensor(self.x[idx], dtype=torch.long) \n",
    "        y = torch.tensor(self.y[idx], dtype=torch.long)\n",
    "        mask_x = torch.tensor(self.mask_x[idx], dtype=torch.long)\n",
    "        mask_y = torch.tensor(self.mask_y[idx], dtype=torch.long)\n",
    "        return x, y, mask_x, mask_y"
   ]
  },
  {
   "cell_type": "code",
   "execution_count": 14,
   "id": "59dc2eda-0d25-41b8-ad49-74a2a0844e9b",
   "metadata": {
    "scrolled": true
   },
   "outputs": [],
   "source": [
    "file_name = 'hin.txt'\n",
    "dataset = EnglishHindi(file_name, english_vocab, hindi_vocab)"
   ]
  },
  {
   "cell_type": "code",
   "execution_count": 15,
   "id": "b734199f-0de8-43da-896f-c21798cde995",
   "metadata": {},
   "outputs": [],
   "source": [
    "dataloader = DataLoader(dataset, batch_size=4, shuffle=True)"
   ]
  },
  {
   "cell_type": "code",
   "execution_count": 16,
   "id": "31ed4bb3-b3b7-4787-bd4a-f09d1b12bc6b",
   "metadata": {
    "scrolled": true
   },
   "outputs": [],
   "source": [
    "x, y, mask_x, mask_y = next(iter(dataloader))"
   ]
  },
  {
   "cell_type": "markdown",
   "id": "79a50796-89ea-44dd-8ebb-fecb8d4aa39b",
   "metadata": {},
   "source": [
    "# Model"
   ]
  },
  {
   "cell_type": "code",
   "execution_count": 17,
   "id": "751d608e-5ee2-42a7-ac66-cf3c96031be1",
   "metadata": {},
   "outputs": [],
   "source": [
    "import torch.nn as nn\n",
    "import torch.nn.functional as F"
   ]
  },
  {
   "cell_type": "code",
   "execution_count": 18,
   "id": "f149cfc4-8922-4266-9688-1826df2c82ce",
   "metadata": {},
   "outputs": [],
   "source": [
    "class ScaledDotProductAttention(nn.Module):\n",
    "    def __init__(self, d):\n",
    "        super().__init__()\n",
    "        self.normalization_factor = d**0.5\n",
    "\n",
    "    def forward(self, q, k, v, mask = None):\n",
    "        unnormalized = F.softmax(torch.matmul(q, torch.transpose(k, -2, -1)), dim = -1)\n",
    "        normalized = unnormalized / self.normalization_factor \n",
    "        if (mask is not None):\n",
    "            normalized = torch.mul(mask, normalized)\n",
    "        attention_value = torch.matmul(normalized, v) \n",
    "        return attention_value, normalized\n",
    "\n",
    "class Attention(nn.Module):\n",
    "    def __init__(self, input_dim, embedding_dim):\n",
    "        super().__init__()\n",
    "\n",
    "        self.query_weights = nn.Linear(input_dim, embedding_dim)\n",
    "        self.key_weights = nn.Linear(input_dim, embedding_dim)\n",
    "        self.value_weights = nn.Linear(input_dim, embedding_dim)\n",
    "\n",
    "        self.scaled_attention = ScaledDotProductAttention(embedding_dim)\n",
    "\n",
    "    def forward(self, q, k, v, mask = False):\n",
    "        q = self.query_weights(q)\n",
    "        k = self.key_weights(k) \n",
    "        v = self.value_weights(v)\n",
    "\n",
    "        attention, attention_weights = self.scaled_attention(q, k, v, mask = mask)\n",
    "        return attention, attention_weights\n",
    "\n",
    "class MultiHeadAttention(nn.Module):\n",
    "    def __init__(self, input_dim, num_heads, embedding_dim, output_dim):\n",
    "        super().__init__()\n",
    "        assert (embedding_dim % num_heads == 0), f\"embedding dim {embedding_dim} must be divisible by num heads {num_heads}\"\n",
    "        \n",
    "        self.input_dim = input_dim\n",
    "        self.num_heads = num_heads\n",
    "        self.embedding_dim = embedding_dim // num_heads\n",
    "        self.multihead_attention = nn.ModuleList([\n",
    "                                    (Attention(input_dim, self.embedding_dim)) for _ in range(num_heads)])\n",
    "\n",
    "        self.output_projection = nn.Linear(embedding_dim, output_dim)\n",
    "    \n",
    "    def forward(self, q, k, v, mask=False):\n",
    "        attention_list, weights_list = [], []\n",
    "        for attention_head in self.multihead_attention:\n",
    "            attention, attention_weights = attention_head(q, k, v, mask)\n",
    "            attention_list.append(attention)\n",
    "            weights_list.append(attention_weights.unsqueeze(dim = 1))\n",
    "        \n",
    "        attention = torch.cat(attention_list, dim = -1)\n",
    "        weights_list = torch.cat(weights_list, dim = 1)\n",
    "        attention = self.output_projection(attention)\n",
    "        return attention, weights_list\n",
    "\n",
    "class Encoder(nn.Module):\n",
    "    def __init__(self, input_dim, embedding_dim, output_dim, num_heads):\n",
    "        super().__init__()\n",
    "        self.multi_head_attn = MultiHeadAttention(input_dim, num_heads, \n",
    "                                                  embedding_dim, \n",
    "                                                  output_dim)\n",
    "        self.layer_norm_inter = nn.LayerNorm(output_dim)\n",
    "        self.fc = nn.Sequential(*[\n",
    "            nn.Linear(output_dim, output_dim),\n",
    "            nn.ReLU(),\n",
    "            nn.Linear(output_dim, output_dim),\n",
    "        ])\n",
    "        self.layer_norm_final = nn.LayerNorm(output_dim)\n",
    "\n",
    "    def forward(self, x, mask=False):\n",
    "        attn, attn_weights = self.multi_head_attn(x, x, x, mask = mask)\n",
    "        x = x + attn\n",
    "        x = self.layer_norm_inter(x)\n",
    "        fc_result = self.fc(x)\n",
    "        x = self.layer_norm_final(fc_result + x)\n",
    "        return x, attn_weights\n",
    "\n",
    "class Decoder(nn.Module):\n",
    "    def __init__(self, input_dim, embedding_dim, output_dim, num_heads):\n",
    "        super().__init__()\n",
    "        self.multi_head_attn_1 = MultiHeadAttention(input_dim, num_heads, \n",
    "                                                  embedding_dim, \n",
    "                                                  output_dim)\n",
    "        self.layer_norm_1 = nn.LayerNorm(output_dim)\n",
    "        self.multi_head_attn_2 = MultiHeadAttention(output_dim, num_heads, \n",
    "                                                    output_dim, \n",
    "                                                    output_dim)\n",
    "        self.layer_norm_2 = nn.LayerNorm(output_dim)\n",
    "        self.fc = nn.Sequential(*[\n",
    "            nn.Linear(output_dim, output_dim), \n",
    "            nn.ReLU(), \n",
    "            nn.Linear(output_dim, output_dim)\n",
    "        ])\n",
    "        self.layer_norm_final = nn.LayerNorm(output_dim)\n",
    "\n",
    "    def forward(self, x, encoder, mask_enc = None, mask_dec = None):\n",
    "        attn, attn_weights_dec = self.multi_head_attn_1(x, x, x, mask = mask_dec)\n",
    "        x = self.layer_norm_1(x + attn)\n",
    "        attn, attn_weights_enc = self.multi_head_attn_2(x, encoder, encoder, mask = mask_enc)\n",
    "        x = self.layer_norm_2(x + attn)\n",
    "        x = self.fc(x)\n",
    "        x = self.layer_norm_final(x)\n",
    "        return x, attn_weights_enc, attn_weights_dec"
   ]
  },
  {
   "cell_type": "code",
   "execution_count": 19,
   "id": "9930c5a6-ca4f-4370-8e31-069fb585a9e4",
   "metadata": {},
   "outputs": [],
   "source": [
    "class Transformer(nn.Module):\n",
    "    def __init__(self, input_vocab_size, output_vocab_size, \n",
    "                 input_dim, embedding_dim, output_dim, num_heads):\n",
    "        super().__init__()\n",
    "        self.input_dim = input_dim\n",
    "        self.input_embeddings = nn.Embedding(input_vocab_size, input_dim)\n",
    "        self.output_embeddings = nn.Embedding(output_vocab_size, input_dim)\n",
    "        \n",
    "        self.encoder_1 = Encoder(input_dim, embedding_dim, embedding_dim, num_heads)\n",
    "        self.decoder_1 = Decoder(input_dim, embedding_dim, embedding_dim, num_heads)\n",
    "\n",
    "        self.encoder_2 = Encoder(input_dim, embedding_dim, embedding_dim, num_heads)\n",
    "        self.decoder_2 = Decoder(input_dim, embedding_dim, embedding_dim, num_heads)\n",
    "\n",
    "        self.encoder_3 = Encoder(input_dim, embedding_dim, embedding_dim, num_heads)\n",
    "        self.decoder_3 = Decoder(input_dim, embedding_dim, embedding_dim, num_heads)\n",
    "\n",
    "        self.fc_connect = nn.Sequential(*[\n",
    "            nn.Linear(embedding_dim, embedding_dim), \n",
    "            nn.ReLU(), \n",
    "            nn.Linear(embedding_dim, output_dim)\n",
    "        ])        \n",
    "\n",
    "        self.positional_embedding = self.get_positional_embedding()\n",
    "\n",
    "    def get_positional_embedding(self, sequence_length=10):\n",
    "        d = self.input_dim\n",
    "        i = np.arange(0,d//2)\n",
    "        positional_embedding = []\n",
    "        for pos in range(sequence_length):\n",
    "            positional_embedding.append(\n",
    "                      np.concatenate([np.sin(pos/(10000**((2*i)/d))), \n",
    "                                      np.cos(pos/(10000**((2*i+1)/d)))]))\n",
    "        positional_embedding = np.array(positional_embedding)\n",
    "        positional_embedding = torch.tensor(positional_embedding, dtype=torch.float32)\n",
    "        return positional_embedding\n",
    "    \n",
    "    def forward(self, x, outputs, mask_x):\n",
    "        x = self.input_embeddings(x)\n",
    "        outputs = self.output_embeddings(outputs)\n",
    "        \n",
    "        positional_embedding = self.positional_embedding.unsqueeze(0).expand(x.size(0), x.size(1), x.size(2))\n",
    "        positional_embedding = positional_embedding.to(x.device)\n",
    "\n",
    "        mask_x = torch.transpose(mask_x.unsqueeze(2).expand(x.size(0),x.size(1),x.size(1)), -2,-1)\n",
    "        \n",
    "        x = x+positional_embedding\n",
    "        \n",
    "        enc_1, _ = self.encoder_1(x, mask = mask_x)\n",
    "        enc_2, _ = self.encoder_2(enc_1, mask = mask_x)\n",
    "        enc_3, _ = self.encoder_3(enc_2, mask = mask_x) # shape [batch_size x seq_len x output_dim]\n",
    "\n",
    "        # we need to add the last sequence of the encoder to initial sequence\n",
    "        h = enc_3[:, -1].unsqueeze(1)  # shape [batch_size x 1 x output_dim]\n",
    "        outputs = outputs[:, : -1]\n",
    "        outputs = torch.cat([h, outputs], dim = -2)\n",
    "\n",
    "        mask_y = torch.tril(torch.ones(size=(x.size(1),x.size(1)))).to(x.device)\n",
    "        decoder_1, _, _ = self.decoder_1(outputs, enc_1, mask_dec = mask_y, mask_enc = mask_x)\n",
    "        decoder_2, _, _ = self.decoder_2(decoder_1, enc_2, mask_dec = mask_y, mask_enc = mask_x)\n",
    "        decoder_3, weights_enc, weights_dec = self.decoder_3(decoder_2, enc_3, \n",
    "                                                             mask_dec = mask_y, mask_enc = mask_x)\n",
    "\n",
    "        return self.fc_connect(decoder_3), weights_enc, weights_dec"
   ]
  },
  {
   "cell_type": "code",
   "execution_count": 20,
   "id": "9711ec50-d1ee-4d4b-b20e-9ef7b4019e94",
   "metadata": {},
   "outputs": [],
   "source": [
    "batch_size = 32\n",
    "\n",
    "input_dim = 256\n",
    "embedding_dim = 256\n",
    "num_heads = 4\n",
    "\n",
    "output_dim = len(hindi_vocab)\n",
    "vocab_size = len(english_vocab)\n",
    "\n",
    "model = Transformer(vocab_size, output_dim, input_dim, embedding_dim, output_dim, num_heads)"
   ]
  },
  {
   "cell_type": "code",
   "execution_count": 21,
   "id": "bc824697-e296-444b-9148-72b19a63d0bf",
   "metadata": {},
   "outputs": [],
   "source": [
    "device = torch.device('cpu')\n",
    "\n",
    "model = model.to(device)\n",
    "optim = torch.optim.Adam(model.parameters(), lr = 1e-4)\n",
    "loss_fn = nn.CrossEntropyLoss(reduction = 'none')"
   ]
  },
  {
   "cell_type": "code",
   "execution_count": 22,
   "id": "f88ca8b0-28a0-475e-8323-3c5a06e9a3c5",
   "metadata": {
    "scrolled": true
   },
   "outputs": [
    {
     "data": {
      "application/vnd.jupyter.widget-view+json": {
       "model_id": "7bf9b90ec2c34191a61c4bf3e2b5e29f",
       "version_major": 2,
       "version_minor": 0
      },
      "text/plain": [
       "  0%|          | 0/50 [00:00<?, ?it/s]"
      ]
     },
     "metadata": {},
     "output_type": "display_data"
    },
    {
     "name": "stdout",
     "output_type": "stream",
     "text": [
      "[0] Loss : 4.2613 Acc : 0.218\n",
      "[1] Loss : 3.4619 Acc : 0.277\n",
      "[2] Loss : 3.1103 Acc : 0.313\n",
      "[3] Loss : 2.8426 Acc : 0.342\n",
      "[4] Loss : 2.6128 Acc : 0.370\n",
      "[5] Loss : 2.4034 Acc : 0.391\n",
      "[6] Loss : 2.2058 Acc : 0.416\n",
      "[7] Loss : 2.0117 Acc : 0.440\n",
      "[8] Loss : 1.8202 Acc : 0.464\n",
      "[9] Loss : 1.6391 Acc : 0.489\n",
      "[10] Loss : 1.4670 Acc : 0.516\n",
      "[11] Loss : 1.2975 Acc : 0.545\n",
      "[12] Loss : 1.1409 Acc : 0.572\n",
      "[13] Loss : 1.0072 Acc : 0.599\n",
      "[14] Loss : 0.8852 Acc : 0.621\n",
      "[15] Loss : 0.7881 Acc : 0.639\n",
      "[16] Loss : 0.6892 Acc : 0.660\n",
      "[17] Loss : 0.6131 Acc : 0.676\n",
      "[18] Loss : 0.5373 Acc : 0.693\n",
      "[19] Loss : 0.4966 Acc : 0.704\n",
      "[20] Loss : 0.4162 Acc : 0.722\n",
      "[21] Loss : 0.3747 Acc : 0.731\n",
      "[22] Loss : 0.3431 Acc : 0.739\n",
      "[23] Loss : 0.2979 Acc : 0.750\n",
      "[24] Loss : 0.2619 Acc : 0.758\n",
      "[25] Loss : 0.2382 Acc : 0.765\n",
      "[26] Loss : 0.2335 Acc : 0.764\n",
      "[27] Loss : 0.1907 Acc : 0.777\n",
      "[28] Loss : 0.1545 Acc : 0.785\n",
      "[29] Loss : 0.1507 Acc : 0.786\n",
      "[30] Loss : 0.1870 Acc : 0.774\n",
      "[31] Loss : 0.1577 Acc : 0.782\n",
      "[32] Loss : 0.1233 Acc : 0.793\n",
      "[33] Loss : 0.1280 Acc : 0.791\n",
      "[34] Loss : 0.1202 Acc : 0.793\n",
      "[35] Loss : 0.1288 Acc : 0.789\n",
      "[36] Loss : 0.1300 Acc : 0.789\n",
      "[37] Loss : 0.1296 Acc : 0.788\n",
      "[38] Loss : 0.0959 Acc : 0.798\n",
      "[39] Loss : 0.1115 Acc : 0.792\n",
      "[40] Loss : 0.0862 Acc : 0.801\n",
      "[41] Loss : 0.0764 Acc : 0.804\n",
      "[42] Loss : 0.1114 Acc : 0.793\n",
      "[43] Loss : 0.1322 Acc : 0.786\n",
      "[44] Loss : 0.0974 Acc : 0.796\n",
      "[45] Loss : 0.0741 Acc : 0.802\n",
      "[46] Loss : 0.0817 Acc : 0.799\n",
      "[47] Loss : 0.0970 Acc : 0.796\n",
      "[48] Loss : 0.0845 Acc : 0.800\n",
      "[49] Loss : 0.0833 Acc : 0.800\n"
     ]
    }
   ],
   "source": [
    "epochs = 50\n",
    "history = {'training_loss' : [], 'training_acc':[]}\n",
    "for epoch in tqdm(range(epochs)):\n",
    "    loss_ = []\n",
    "    acc_ = []\n",
    "    for _, (x, y, mask_x, mask_y) in enumerate(dataloader):\n",
    "        x, y, mask_x, mask_y = x.to(device), y.to(device), mask_x.to(device), mask_y.to(device)\n",
    "        pred, _, _ = model(x, y, mask_x)\n",
    "        pred_, y_  = pred.reshape(-1, pred.size(-1)), y.reshape(-1)\n",
    "        mask_y = mask_y.reshape(-1)\n",
    "        \n",
    "        loss = loss_fn(pred_,y_)\n",
    "        loss = torch.mul(mask_y, loss).mean()\n",
    "        acc = (torch.argmax(pred_, dim = -1) == y_).sum() / pred_.size(0)\n",
    "    \n",
    "        optim.zero_grad()\n",
    "        loss.backward()\n",
    "        optim.step()\n",
    "        \n",
    "        loss_.append(loss.item())\n",
    "        acc_.append(acc.item())\n",
    "\n",
    "    loss_, acc_ = np.mean(loss_), np.mean(acc_)\n",
    "    history['training_loss'].append(loss_)\n",
    "    history['training_acc'].append(acc_)\n",
    "    print(f\"[{epoch}] Loss : {loss_:.4f} Acc : {acc_:.3f}\")"
   ]
  },
  {
   "cell_type": "code",
   "execution_count": 23,
   "id": "a37f313a-7de0-46a5-bc84-010582ce9290",
   "metadata": {},
   "outputs": [
    {
     "data": {
      "image/png": "[encoded data removed]",
      "text/plain": [
       "<Figure size 400x300 with 1 Axes>"
      ]
     },
     "metadata": {},
     "output_type": "display_data"
    }
   ],
   "source": [
    "plt.figure(figsize=(4,3))\n",
    "axs = sns.lineplot(history['training_loss'])\n",
    "_ = axs.set(xlabel = 'Epoch', ylabel='Loss', title='Training Loss Curve')"
   ]
  },
  {
   "cell_type": "code",
   "execution_count": 24,
   "id": "7bebe7a3-7cb3-4ec3-ba09-0a04304914b3",
   "metadata": {},
   "outputs": [],
   "source": [
    "hindi_inverted = { hindi_vocab[key] : key for key in hindi_vocab.keys()}\n",
    "english_inverted = { english_vocab[key] : key for key in english_vocab.keys()}"
   ]
  },
  {
   "cell_type": "code",
   "execution_count": 32,
   "id": "4859c913-e27c-4207-80e7-25a8c46c6922",
   "metadata": {},
   "outputs": [
    {
     "name": "stdout",
     "output_type": "stream",
     "text": [
      "English : ['she', 'talks', 'a', 'lot']\n",
      "Predicted :  ['वह', 'बहुत', 'बकबक', 'करती', 'है।']\n",
      "Actual :  ['वह', 'बहुत', 'बकबक', 'करती', 'है।']\n"
     ]
    }
   ],
   "source": [
    "x_sample, y_sample, mask_x_sample, mask_y_sample = next(iter(dataloader))\n",
    "pred_sample, weights_enc, weights_dec = model(x_sample, y_sample, mask_x_sample)\n",
    "t = torch.argmax(pred_sample, dim = -1).detach().numpy()\n",
    "\n",
    "idx = 0\n",
    "\n",
    "english_words = [english_inverted[idx] for idx in x_sample.detach().numpy()[idx]]\n",
    "hindi_words_pred = [hindi_inverted[idx] for idx in t[idx]]\n",
    "hindi_word_actual = [hindi_inverted[idx] for idx in y_sample[idx].detach().numpy()]\n",
    "\n",
    "print(\"English :\", [i for i in english_words if i not in ['START', 'END', 'PAD']])\n",
    "print(\"Predicted : \", [i for i in hindi_words_pred if i not in ['START', 'END', 'PAD']] )\n",
    "print(\"Actual : \", [i for i in hindi_word_actual if i not in ['START', 'END', 'PAD']]  )"
   ]
  },
  {
   "cell_type": "code",
   "execution_count": 33,
   "id": "ce56f09f-fc8e-4deb-a59e-8770ce459bef",
   "metadata": {},
   "outputs": [
    {
     "data": {
      "image/png": "[encoded data removed]",
      "text/plain": [
       "<Figure size 2000x1500 with 8 Axes>"
      ]
     },
     "metadata": {},
     "output_type": "display_data"
    }
   ],
   "source": [
    "hindi_font = FontProperties(fname='font/Nirmala.ttf', size=14)\n",
    "_, axs = plt.subplots(2, 2, figsize=(20, 15))\n",
    "for row in range(2):\n",
    "    for col in range(2):\n",
    "        axs[row][col] = sns.heatmap(weights_enc[idx, row*2 + col].detach().numpy(), \n",
    "                                    ax =  axs[row][col], cbar=True)\n",
    "        _ =  axs[row][col].set(xticklabels = english_words , \n",
    "                               ylabel = 'Hindi Words', xlabel = 'English Words')\n",
    "        _ =  axs[row][col].set_yticklabels(hindi_words_pred, \n",
    "                                           fontproperties=hindi_font)"
   ]
  },
  {
   "cell_type": "code",
   "execution_count": null,
   "id": "8aedd81d-0fe4-4682-8776-60a0edc9b574",
   "metadata": {},
   "outputs": [],
   "source": []
  }
 ],
 "metadata": {
  "kernelspec": {
   "display_name": "Python 3 (ipykernel)",
   "language": "python",
   "name": "python3"
  },
  "language_info": {
   "codemirror_mode": {
    "name": "ipython",
    "version": 3
   },
   "file_extension": ".py",
   "mimetype": "text/x-python",
   "name": "python",
   "nbconvert_exporter": "python",
   "pygments_lexer": "ipython3",
   "version": "3.11.7"
  }
 },
 "nbformat": 4,
 "nbformat_minor": 5
}
