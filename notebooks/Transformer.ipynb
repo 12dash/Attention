{
 "cells": [
  {
   "cell_type": "markdown",
   "id": "53c39ab4-8fb4-49d2-bc1a-44d7a72c8f23",
   "metadata": {},
   "source": [
    "# Transformer"
   ]
  },
  {
   "cell_type": "code",
   "execution_count": 13,
   "id": "df3772fd-4fdd-42cf-b386-8ca57383646c",
   "metadata": {},
   "outputs": [],
   "source": [
    "import torch \n",
    "import torch.nn as nn\n",
    "import torch.nn.functional as F\n",
    "\n",
    "import seaborn as sns\n",
    "import matplotlib.pyplot as plt"
   ]
  },
  {
   "cell_type": "code",
   "execution_count": 23,
   "id": "51cddc1c-9dcf-4807-abb2-cbdf74e08403",
   "metadata": {},
   "outputs": [],
   "source": [
    "class ScaledDotProductAttention(nn.Module):\n",
    "    def __init__(self, d):\n",
    "        super().__init__()\n",
    "        self.normalization_factor = d**0.5\n",
    "\n",
    "    def forward(self, q, k, v, mask = None):\n",
    "        \"\"\"\n",
    "            q : Query vector [BatchSize x (_) x Dim]\n",
    "            k : Key Vector   [BatchSize x Seq Len x Dim], k.t : [BatchSize x Dim x Seq Len]\n",
    "            v : Value Vector [BatchSize x Seq Len x Dim]\n",
    "\n",
    "            mask : A mask is required for each sample of shape as  [(_) x Seq Len] \n",
    "                   i.e.[BatchSize x (_) x Seq Len]\n",
    "\n",
    "            unnormalized attention = Q(K.T)\n",
    "            normalized attention  = Q(K.T) / (d**0.5)\n",
    "        \"\"\"\n",
    "        unnormalized_attn = F.softmax(torch.matmul(q, torch.transpose(k, -2, -1)), dim = -1)\n",
    "        normalized_attn = unnormalized_attn / self.normalization_factor \n",
    "        # attention : [BatchSize x (_) x Seq Len]\n",
    "        if (mask is not None):\n",
    "            # The mask is an batch-wise element multiplication\n",
    "            normalized_attn = torch.mul(mask, normalized_attn)\n",
    "            \n",
    "        #[BatchSize x (_) x Dim]\n",
    "        attention_value = torch.matmul(normalized_attn, v) \n",
    "        return attention_value, normalized_attn"
   ]
  },
  {
   "cell_type": "code",
   "execution_count": 24,
   "id": "febcaef2-baec-4e6d-8563-6eebbf32f48b",
   "metadata": {},
   "outputs": [],
   "source": [
    "class Attention(nn.Module):\n",
    "    def __init__(self, input_dim, embedding_dim):\n",
    "        super().__init__()\n",
    "\n",
    "        self.query_weights = nn.Linear(input_dim, embedding_dim)\n",
    "        self.key_weights   = nn.Linear(input_dim, embedding_dim)\n",
    "        self.value_weights = nn.Linear(input_dim, embedding_dim)\n",
    "\n",
    "        self.scaled_attention = ScaledDotProductAttention(embedding_dim)\n",
    "\n",
    "    def forward(self, q, k, v, mask = None):\n",
    "        q = self.query_weights(q)\n",
    "        k = self.key_weights(k) \n",
    "        v = self.value_weights(v)\n",
    "\n",
    "        attention, attention_weights = self.scaled_attention(q, k, v, mask = mask)\n",
    "        return attention, attention_weights"
   ]
  },
  {
   "cell_type": "code",
   "execution_count": 25,
   "id": "ed4ab96e-029d-494d-8c42-f12d311da48c",
   "metadata": {},
   "outputs": [],
   "source": [
    "class MultiHeadAttention(nn.Module):\n",
    "    def __init__(self, input_dim, num_heads, embedding_dim, output_dim):\n",
    "        super().__init__()\n",
    "        assert (embedding_dim % num_heads == 0), f\"embedding dim {embedding_dim} must be divisible by num heads {num_heads}\"\n",
    "        \n",
    "        self.input_dim = input_dim\n",
    "        self.num_heads = num_heads\n",
    "        self.embedding_dim = embedding_dim // num_heads\n",
    "        self.multihead_attention = [(Attention(input_dim, self.embedding_dim)) for _ in range(num_heads)]\n",
    "\n",
    "        self.output_projection = nn.Linear(embedding_dim, output_dim)\n",
    "    \n",
    "    def forward(self, q, k, v, mask=None):\n",
    "        attention_list, weights_list = [], []\n",
    "        for attention_head in self.multihead_attention:\n",
    "            attention, attention_weights = attention_head(q, k, v, mask)\n",
    "            attention_list.append(attention)\n",
    "            weights_list.append(attention_weights.unsqueeze(dim = 1))\n",
    "        \n",
    "        attention = torch.cat(attention_list, dim = -1)\n",
    "        weights_list = torch.cat(weights_list, dim = 1)\n",
    "        attention = self.output_projection(attention)\n",
    "        return attention, weights_list"
   ]
  },
  {
   "cell_type": "code",
   "execution_count": 26,
   "id": "6cd24c8e-cd11-4626-b534-e54001e3bf3e",
   "metadata": {},
   "outputs": [],
   "source": [
    "class Encoder(nn.Module):\n",
    "    def __init__(self, input_dim, embedding_dim, output_dim, num_heads):\n",
    "        super().__init__()\n",
    "        self.multi_head_attn = MultiHeadAttention(input_dim, num_heads, \n",
    "                                                  embedding_dim, \n",
    "                                                  output_dim)\n",
    "        self.layer_norm_inter = nn.LayerNorm(output_dim)\n",
    "        self.fc = nn.Sequential(*[\n",
    "            nn.Linear(output_dim, output_dim),\n",
    "            nn.ReLU(),\n",
    "            nn.Linear(output_dim, output_dim),\n",
    "        ])\n",
    "        self.layer_norm_final = nn.LayerNorm(output_dim)\n",
    "\n",
    "    def forward(self, x, mask=None):\n",
    "        attn, attn_weights = self.multi_head_attn(x, x, x, mask = mask)\n",
    "        x = x + attn\n",
    "        x = self.layer_norm_inter(x)\n",
    "        fc_result = self.fc(x)\n",
    "        x = self.layer_norm_final(fc_result + x)\n",
    "        return x, attn_weights"
   ]
  },
  {
   "cell_type": "code",
   "execution_count": 27,
   "id": "c3d277e7-8157-42a1-af01-9e42f1b1623b",
   "metadata": {},
   "outputs": [],
   "source": [
    "class Decoder(nn.Module):\n",
    "    def __init__(self, input_dim, embedding_dim, output_dim, num_heads):\n",
    "        super().__init__()\n",
    "        self.multi_head_attn_1 = MultiHeadAttention(input_dim, num_heads, \n",
    "                                                  embedding_dim, \n",
    "                                                  output_dim)\n",
    "        self.layer_norm_1 = nn.LayerNorm(output_dim)\n",
    "        self.multi_head_attn_2 = MultiHeadAttention(output_dim, num_heads, \n",
    "                                                    output_dim, \n",
    "                                                    output_dim)\n",
    "        self.layer_norm_2 = nn.LayerNorm(output_dim)\n",
    "        self.fc = nn.Sequential(*[\n",
    "            nn.Linear(output_dim, output_dim), \n",
    "            nn.ReLU(), \n",
    "            nn.Linear(output_dim, output_dim)\n",
    "        ])\n",
    "        self.layer_norm_final = nn.LayerNorm(output_dim)\n",
    "\n",
    "    def forward(self, x, encoder, mask_encoder = None, mask_decoder=None):\n",
    "        attn, attn_weights_dec = self.multi_head_attn_1(x, x, x, mask = mask_encoder)\n",
    "        x = self.layer_norm_1(x + attn)\n",
    "        attn, attn_weights_enc = self.multi_head_attn_2(x, encoder, encoder, mask = mask_decoder)\n",
    "        x = self.layer_norm_2(x + attn)\n",
    "        x = self.fc(x)\n",
    "        x = self.layer_norm_final(x)\n",
    "        return x, attn_weights_enc, attn_weights_dec"
   ]
  },
  {
   "cell_type": "markdown",
   "id": "f4cf1398-e350-4a97-afc2-66bc42c3b090",
   "metadata": {},
   "source": [
    "## Builduing the Tranformer architecture"
   ]
  },
  {
   "cell_type": "code",
   "execution_count": 28,
   "id": "4a59da99-f1de-4637-9014-0937f016d6c5",
   "metadata": {},
   "outputs": [],
   "source": [
    "class Transformer(nn.Module):\n",
    "    def __init__(self, input_dim, embedding_dim, output_dim, num_heads):\n",
    "        super().__init__()\n",
    "        self.encoder_1 = Encoder(input_dim, embedding_dim, embedding_dim, num_heads)\n",
    "        self.decoder_1 = Decoder(input_dim, embedding_dim, embedding_dim, num_heads)\n",
    "\n",
    "        self.encoder_2 = Encoder(input_dim, embedding_dim, embedding_dim, num_heads)\n",
    "        self.decoder_2 = Decoder(input_dim, embedding_dim, embedding_dim, num_heads)\n",
    "\n",
    "        self.encoder_3 = Encoder(input_dim, embedding_dim, embedding_dim, num_heads)\n",
    "        self.decoder_3 = Decoder(input_dim, embedding_dim, embedding_dim, num_heads)\n",
    "\n",
    "        self.fc_connect = nn.Sequential(*[\n",
    "            nn.Linear(embedding_dim, embedding_dim), \n",
    "            nn.ReLU(), \n",
    "            nn.Linear(embedding_dim, output_dim),\n",
    "            nn.Softmax(dim = -1)\n",
    "        ])\n",
    "\n",
    "    def forward(self, x, outputs, mask_encoder=None):\n",
    "        enc_1, _ = self.encoder_1(x, mask = mask_encoder)\n",
    "        enc_2, _ = self.encoder_2(enc_1, mask = mask_encoder)\n",
    "        enc_3, _ = self.encoder_3(enc_2, mask = mask_encoder) # shape [batch_size x seq_len x output_dim]\n",
    "\n",
    "        # we need to add the last sequence of the encoder to initial sequence\n",
    "        h = enc_3[:, -1].unsqueeze(1)  # shape [batch_size x 1 x output_dim]\n",
    "        outputs = torch.cat([h, outputs], dim = -2) # shape [batch_size x (_)+1 x output_dim]\n",
    "        \n",
    "        # Shifts it by right and the encoder output is passed as input\n",
    "        outputs = outputs[:, :-1] # shape [batch_size x (_) x output_dim]\n",
    "\n",
    "        # Should be of shape [(_) x (seq_len)]\n",
    "        mask_decoder = torch.tril(torch.ones(size=(outputs.size(1), x.size(1)), device = x.device))\n",
    "        \n",
    "        decoder_1, _, _ = self.decoder_1(outputs, enc_1, \n",
    "                                         mask_encoder = mask_encoder, mask_decoder = mask_decoder)\n",
    "                                  \n",
    "        decoder_2, _, _ = self.decoder_2(decoder_1, enc_2,\n",
    "                                         mask_encoder = mask_encoder, mask_decoder = mask_decoder)\n",
    "        \n",
    "        decoder_3, attn_weights_enc, attn_weights_dec = self.decoder_3(decoder_2, enc_3, \n",
    "                                                             mask_encoder = mask_encoder, \n",
    "                                                             mask_decoder = mask_decoder)\n",
    "\n",
    "        prediction = self.fc_connect(decoder_3)\n",
    "        return prediction, attn_weights_enc, attn_weights_dec        "
   ]
  },
  {
   "cell_type": "code",
   "execution_count": 29,
   "id": "b04fdf03-4bec-4338-aec0-48790cafea51",
   "metadata": {},
   "outputs": [],
   "source": [
    "batch_size = 8\n",
    "seq_len = 10\n",
    "\n",
    "input_dim = 128\n",
    "embedding_dim = 128\n",
    "output_dim = 100\n",
    "num_heads = 4\n",
    "\n",
    "transformer = Transformer(input_dim, embedding_dim, output_dim, num_heads)\n",
    "\n",
    "x = torch.randn(size=(batch_size, seq_len, input_dim))\n",
    "outputs = torch.randn(size=(batch_size, seq_len-1, input_dim))"
   ]
  },
  {
   "cell_type": "code",
   "execution_count": 30,
   "id": "1801df9e-d723-449d-b5e3-dd12a9e0bfc0",
   "metadata": {
    "scrolled": true
   },
   "outputs": [],
   "source": [
    "output, weights_enc, weights_dec = transformer(x, outputs)"
   ]
  },
  {
   "cell_type": "code",
   "execution_count": 31,
   "id": "1de33e10-463d-4f90-bf70-7edaa0712214",
   "metadata": {},
   "outputs": [
    {
     "data": {
      "image/png": "[encoded data removed]",
      "text/plain": [
       "<Figure size 400x300 with 2 Axes>"
      ]
     },
     "metadata": {},
     "output_type": "display_data"
    }
   ],
   "source": [
    "plt.figure(figsize=(4,3))\n",
    "ax = sns.heatmap(weights_enc[0, 0].detach().numpy())\n",
    "_ = ax.set( xlabel = 'Attention to input', \n",
    "            ylabel = 'Sequence Predictions', \n",
    "            title = \"Attention\")"
   ]
  },
  {
   "cell_type": "code",
   "execution_count": null,
   "id": "e4da092a-2cfb-40f9-bdea-823bdf12be9f",
   "metadata": {},
   "outputs": [],
   "source": []
  }
 ],
 "metadata": {
  "kernelspec": {
   "display_name": "Python 3 (ipykernel)",
   "language": "python",
   "name": "python3"
  },
  "language_info": {
   "codemirror_mode": {
    "name": "ipython",
    "version": 3
   },
   "file_extension": ".py",
   "mimetype": "text/x-python",
   "name": "python",
   "nbconvert_exporter": "python",
   "pygments_lexer": "ipython3",
   "version": "3.11.7"
  }
 },
 "nbformat": 4,
 "nbformat_minor": 5
}
