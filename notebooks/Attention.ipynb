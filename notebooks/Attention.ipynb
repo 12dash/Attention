{
 "cells": [
  {
   "cell_type": "markdown",
   "id": "4c7c4de8-e16b-4ec8-b20c-12bb4c57f0db",
   "metadata": {},
   "source": [
    "# Attention"
   ]
  },
  {
   "cell_type": "markdown",
   "id": "feaec8e8-6f8c-4f4a-9932-407f843e6ef9",
   "metadata": {},
   "source": [
    "An attention is a function of Query($Q$), and a squence of [Keys ($K$), Values($V$)] pairs. The intuition of attention mechanism is, given a query, it tries to take a simmilarity over the keys in a sense producing the how much attention to give to the keys. The attention or the simmilarity calculated between the $Q$ and $K$ is first scaled using the softmax and normalized by $d$ the dimension of the vector $Q$.\n",
    "\n",
    "This scaled attention is used as weights for averaging over the $V$.\n",
    "\n",
    "$$\n",
    "\\begin{align}\n",
    "\\text{Attention}(Q, K, V) = \\text{softmax}(\\frac{Q \\cdot K^{T}}{\\sqrt{d}}) \\odot V\n",
    "\\end{align}\n",
    "$$"
   ]
  },
  {
   "cell_type": "code",
   "execution_count": 1,
   "id": "e04ffe70-0ad5-43f7-931b-fcf13f84ed95",
   "metadata": {},
   "outputs": [],
   "source": [
    "import torch\n",
    "import torch.nn as nn\n",
    "import torch.nn.functional as F\n",
    "\n",
    "import seaborn as sns\n",
    "import matplotlib.pyplot as plt"
   ]
  },
  {
   "cell_type": "code",
   "execution_count": 39,
   "id": "89562d48-7834-464f-80d4-301beca854a5",
   "metadata": {},
   "outputs": [],
   "source": [
    "class ScaledDotProductAttention(nn.Module):\n",
    "    def __init__(self, d):\n",
    "        super().__init__()\n",
    "\n",
    "        # Scaling w.r.t dimension\n",
    "        self.normalization_factor = d**0.5\n",
    "\n",
    "    def forward(self, q, k, v, mask = None):\n",
    "        #assert mask.shape == ()\n",
    "        # q is of shape [(num_q) x d] and k is of shape [SEQ_LEN x d]\n",
    "        unnormalized = F.softmax(torch.matmul(q, torch.transpose(k, -2, -1)), dim = -1)\n",
    "        normalized = unnormalized / self.normalization_factor # shape [(num_q) x (seq_len)]\n",
    "        if mask is not None:\n",
    "            normalized = torch.mul(mask, normalized)\n",
    "        \n",
    "        # normalized attention should be of shape [(num_q) X SEQ_LEN]\n",
    "        # v is of shape [SEQ_LEN x d]\n",
    "        attention_value = torch.matmul(normalized, v) # shape [num_q x d]\n",
    "        return attention_value, normalized"
   ]
  },
  {
   "cell_type": "code",
   "execution_count": 41,
   "id": "9859ac58-1a7c-453b-868f-d17e00703a6d",
   "metadata": {},
   "outputs": [
    {
     "name": "stdout",
     "output_type": "stream",
     "text": [
      "Shape of the attention values:  torch.Size([4, 16, 128])\n"
     ]
    }
   ],
   "source": [
    "d = 128\n",
    "seq_len = 16\n",
    "batch_size = 4\n",
    "\n",
    "q = torch.rand(size=(batch_size, seq_len, d))\n",
    "k = torch.rand(size=(batch_size, seq_len,d))\n",
    "v = k\n",
    "mask = torch.tril(torch.ones(seq_len, seq_len))\n",
    "attention_layer = ScaledDotProductAttention(d)\n",
    "attention, weights = attention_layer(q,k,v, mask)\n",
    "\n",
    "# [Batch_size x seq_len x d]\n",
    "print(\"Shape of the attention values: \", attention.shape)"
   ]
  },
  {
   "cell_type": "code",
   "execution_count": 42,
   "id": "bbf7fca3-8a6c-438b-b136-33ef0b7c75a3",
   "metadata": {},
   "outputs": [
    {
     "data": {
      "image/png": "[encoded data removed]",
      "text/plain": [
       "<Figure size 400x300 with 2 Axes>"
      ]
     },
     "metadata": {},
     "output_type": "display_data"
    }
   ],
   "source": [
    "plt.figure(figsize=(4,3))\n",
    "ax = sns.heatmap(weights.numpy()[1])\n",
    "_ = ax.set(ylabel = \"Query\", \n",
    "           xlabel = \"Sequence (past values)\", \n",
    "           title  = \"Attention Weights\")"
   ]
  },
  {
   "cell_type": "code",
   "execution_count": 43,
   "id": "d5a25bd8-bdf3-44df-8492-7675e06c2479",
   "metadata": {},
   "outputs": [],
   "source": [
    "class Attention(nn.Module):\n",
    "    def __init__(self, input_dim, embedding_dim):\n",
    "        super().__init__()\n",
    "\n",
    "        # Transforming the input to linear weights\n",
    "        self.query_weights = nn.Linear(input_dim, embedding_dim)\n",
    "        self.key_weights = nn.Linear(input_dim, embedding_dim)\n",
    "        self.value_weights = nn.Linear(input_dim, embedding_dim)\n",
    "\n",
    "        self.scaled_attention = ScaledDotProductAttention(embedding_dim)\n",
    "\n",
    "    def forward(self, x):\n",
    "        # x is of shape [batch_size, seq_len, input_dim]\n",
    "        q = self.query_weights(x) # [batch_size, seq_len, embedding_dim]\n",
    "        k = self.key_weights(x) \n",
    "        v = self.value_weights(x)\n",
    "\n",
    "        # attention will be of shape [batch_size, seq_len, embedding_dim]\n",
    "        attention, attention_weights = self.scaled_attention(q, k, v)\n",
    "        return attention, attention_weights"
   ]
  },
  {
   "cell_type": "code",
   "execution_count": 44,
   "id": "c5e82580-c60f-47e3-842e-4471be294945",
   "metadata": {},
   "outputs": [],
   "source": [
    "class MultiHeadAttention(nn.Module):\n",
    "    def __init__(self, input_dim, num_heads, embedding_dim, output_dim):\n",
    "        super().__init__()\n",
    "        assert (output_dim % num_heads == 0), \"output dim must be divisible by num heads\"\n",
    "        \n",
    "        self.input_dim = input_dim\n",
    "        self.num_heads = num_heads\n",
    "        self.embedding_dim = embedding_dim // num_heads\n",
    "        self.multihead_attention = [(Attention(input_dim, self.embedding_dim)) for _ in range(num_heads)]\n",
    "\n",
    "        self.output_projection = nn.Linear(embedding_dim, output_dim)\n",
    "    \n",
    "    def forward(self, x):\n",
    "        attention_list, weights_list = [], []\n",
    "        for attention_head in self.multihead_attention:\n",
    "            attention, attention_weights = attention_head(x)\n",
    "            attention_list.append(attention)\n",
    "            weights_list.append(attention_weights.unsqueeze(dim = 1))\n",
    "        \n",
    "        attention = torch.cat(attention_list, dim = -1)\n",
    "        weights_list = torch.cat(weights_list, dim = 1)\n",
    "\n",
    "        attention = self.output_projection(attention)\n",
    "        return attention, weights_list"
   ]
  },
  {
   "cell_type": "code",
   "execution_count": 45,
   "id": "55e89b8a-a489-49e3-961e-7c9ed32453ad",
   "metadata": {},
   "outputs": [],
   "source": [
    "batch_size = 8\n",
    "seq_len = 10\n",
    "\n",
    "input_dim = 128\n",
    "embedding_dim = 128\n",
    "output_dim = 128\n",
    "num_heads = 4"
   ]
  },
  {
   "cell_type": "code",
   "execution_count": 46,
   "id": "74913bfe-7200-4077-9fee-7865da3e876c",
   "metadata": {
    "scrolled": true
   },
   "outputs": [],
   "source": [
    "x = torch.rand(size=(batch_size, seq_len, input_dim))"
   ]
  },
  {
   "cell_type": "code",
   "execution_count": 47,
   "id": "24b5f047-2123-42b9-8716-9102b9a73226",
   "metadata": {},
   "outputs": [],
   "source": [
    "multihead_attention = MultiHeadAttention(input_dim, \n",
    "                                         num_heads, \n",
    "                                         embedding_dim,\n",
    "                                         output_dim)"
   ]
  },
  {
   "cell_type": "code",
   "execution_count": 48,
   "id": "a6bde2c5-c8fa-4105-910b-875188384e89",
   "metadata": {
    "scrolled": true
   },
   "outputs": [],
   "source": [
    "attention, weights = multihead_attention(x)"
   ]
  },
  {
   "cell_type": "markdown",
   "id": "723d2589-568f-4064-91ac-d98e839c48da",
   "metadata": {},
   "source": [
    "The attention that comes out is of shape $[\\text{batch size}, \\text{seq len}, \\text{projection dim}]$  \n",
    "The attention weights that comes out is of shape $[\\text{batch size},\\text{num heads},\\text{seq len}, \\text{seq len}]$"
   ]
  },
  {
   "cell_type": "code",
   "execution_count": 49,
   "id": "345936c3-3641-4267-9e4f-b4cb8b547fe4",
   "metadata": {},
   "outputs": [
    {
     "name": "stdout",
     "output_type": "stream",
     "text": [
      "Shape of the attention \t: torch.Size([8, 10, 128])\n",
      "Shape of the weights \t: torch.Size([8, 4, 10, 10])\n"
     ]
    }
   ],
   "source": [
    "print(\"Shape of the attention \\t:\", attention.shape)\n",
    "print(\"Shape of the weights \\t:\", weights.shape)"
   ]
  },
  {
   "cell_type": "code",
   "execution_count": null,
   "id": "df9b968d-ca56-484d-9882-e388211348db",
   "metadata": {},
   "outputs": [],
   "source": []
  },
  {
   "cell_type": "code",
   "execution_count": null,
   "id": "fe756126-f19c-46f4-8cad-421b67b78952",
   "metadata": {},
   "outputs": [],
   "source": []
  }
 ],
 "metadata": {
  "kernelspec": {
   "display_name": "Python 3 (ipykernel)",
   "language": "python",
   "name": "python3"
  },
  "language_info": {
   "codemirror_mode": {
    "name": "ipython",
    "version": 3
   },
   "file_extension": ".py",
   "mimetype": "text/x-python",
   "name": "python",
   "nbconvert_exporter": "python",
   "pygments_lexer": "ipython3",
   "version": "3.11.7"
  }
 },
 "nbformat": 4,
 "nbformat_minor": 5
}
